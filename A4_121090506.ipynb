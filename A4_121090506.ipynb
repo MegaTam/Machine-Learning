{
 "cells": [
  {
   "cell_type": "code",
   "execution_count": 20,
   "id": "6fdb4d16",
   "metadata": {},
   "outputs": [],
   "source": [
    "import numpy as np\n",
    "import random\n",
    "\n",
    "'''Read and get the factors'''\n",
    "factors_list = []   # store the factors of each data points\n",
    "class_list = []     # store the class of each data points\n",
    "with open(r'C:\\Users\\谭兆宏\\Desktop\\seeds.txt') as seeds:\n",
    "    data = seeds.readlines()        # data contains the whole messages in the file\n",
    "    for i in range(len(data)):\n",
    "        data[i] = data[i].split('\\t')\n",
    "        # The first 7 numbers in a line are the factors of each data point\n",
    "        factors_list.append([float(data[i][0]), float(data[i][1]), float(data[i][2]), float(data[i][3]),\n",
    "                            float(data[i][4]), float(data[i][5]), float(data[i][6])])\n",
    "        # The last number in a line is the class (but we should exclude \\n away)\n",
    "        class_list.append(int(data[i][7][0]))\n",
    "factors_list = np.array(factors_list)"
   ]
  },
  {
   "cell_type": "code",
   "execution_count": 21,
   "id": "23a1bad7",
   "metadata": {},
   "outputs": [],
   "source": [
    "'''PCA'''\n",
    "for line in factors_list:\n",
    "    for element in line:\n",
    "        element -= np.mean(line)                            # perform x_n - miu\n",
    "matrix = np.dot(factors_list.T, factors_list)               # (x_n-miu)*(x_n-miu).transpose\n",
    "eigen_value, eigen_vector = np.linalg.eig(matrix)\n",
    "index_before_sort = np.argsort(eigen_value)[::-1]           # get the index before sorting\n",
    "eigen_value_sorted = eigen_value[index_before_sort]         # sort the eigen_value in descending order\n",
    "eigen_vector_sorted = eigen_vector[:, index_before_sort]    # sort the eigen_vector in descending order\n",
    "dimension = 2\n",
    "main_component = eigen_vector_sorted[0:dimension]   # extract the top 2 main components\n",
    "data_after_reducing_dimension = np.dot(factors_list, main_component.T)  # do dimension deducing on the data set"
   ]
  },
  {
   "cell_type": "code",
   "execution_count": 22,
   "id": "355b24ef",
   "metadata": {},
   "outputs": [
    {
     "name": "stdout",
     "output_type": "stream",
     "text": [
      "[0, 1, 2, 3, 4, 5, 6, 7, 8, 9, 10, 11, 12, 13, 14, 15, 16, 17, 18, 20, 21, 22, 24, 25, 28, 29, 30, 31, 32, 33, 34, 35, 36, 38, 40, 41, 42, 43, 44, 45, 46, 47, 48, 49, 50, 51, 52, 53, 54, 55, 56, 57, 58, 64, 66, 67, 68, 71, 74, 75, 80, 95, 100, 122, 124, 132, 133, 134, 135, 137, 138, 139] \n",
      " [37, 70, 72, 73, 76, 77, 78, 79, 81, 82, 83, 84, 85, 86, 87, 88, 89, 90, 91, 92, 93, 94, 96, 97, 98, 99, 101, 102, 103, 104, 105, 106, 107, 108, 109, 110, 111, 112, 113, 114, 115, 116, 117, 118, 119, 120, 121, 123, 125, 126, 127, 128, 129, 130, 131, 136] \n",
      " [19, 23, 26, 27, 39, 59, 60, 61, 62, 63, 65, 69, 140, 141, 142, 143, 144, 145, 146, 147, 148, 149, 150, 151, 152, 153, 154, 155, 156, 157, 158, 159, 160, 161, 162, 163, 164, 165, 166, 167, 168, 169, 170, 171, 172, 173, 174, 175, 176, 177, 178, 179, 180, 181, 182, 183, 184, 185, 186, 187, 188, 189, 190, 191, 192, 193, 194, 195, 196, 197, 198, 199, 200, 201, 202, 203, 204, 205, 206, 207, 208, 209]\n"
     ]
    }
   ],
   "source": [
    "'''K-means clusters'''\n",
    "def distance(a, b):\n",
    "    return np.sqrt(np.square(a[0]-b[0])+np.square(a[1]-b[1]))\n",
    "def classification(point, cen1, cen2, cen3):\n",
    "    distance_list = [distance(point, cen1), distance(point, cen2), distance(point, cen3)]\n",
    "    return distance_list.index(min(distance_list))+1    # form group1, group2, group3\n",
    "initial_center = []\n",
    "for i in range(3):\n",
    "    initial_index = random.randint(0, 210)\n",
    "    initial_center.append(data_after_reducing_dimension[initial_index]) # The list contains the 3 initial centers\n",
    "group_1, group_2, group_3 = [], [], []\n",
    "for i in range(len(data_after_reducing_dimension)):\n",
    "    group = classification(data_after_reducing_dimension[i],\n",
    "                           initial_center[0], initial_center[1], initial_center[2])\n",
    "    if group == 1:   group_1.append(i)\n",
    "    elif group == 2: group_2.append(i)\n",
    "    elif group == 3: group_3.append(i)\n",
    "max_iteration = 5000\n",
    "for times in range(max_iteration):\n",
    "    x_bar_1, y_bar_1, x_bar_2, y_bar_2, x_bar_3, y_bar_3 = 0, 0, 0, 0, 0, 0\n",
    "    group_1_current, group_2_current, group_3_current = [], [], []\n",
    "    for i in range(len(group_1)):\n",
    "        x_bar_1 += data_after_reducing_dimension[group_1[i]][0] / len(group_1)\n",
    "        y_bar_1 += data_after_reducing_dimension[group_1[i]][1] / len(group_1)\n",
    "    for i in range(len(group_2)):\n",
    "        x_bar_2 += data_after_reducing_dimension[group_2[i]][0] / len(group_2)\n",
    "        y_bar_2 += data_after_reducing_dimension[group_2[i]][1] / len(group_2)\n",
    "    for i in range(len(group_3)):\n",
    "        x_bar_3 += data_after_reducing_dimension[group_3[i]][0] / len(group_3)\n",
    "        y_bar_3 += data_after_reducing_dimension[group_3[i]][1] / len(group_3)\n",
    "    # get the 3 centers of the 3 groups\n",
    "    center_1 = np.array([x_bar_1, y_bar_1])\n",
    "    center_2 = np.array([x_bar_2, y_bar_2])\n",
    "    center_3 = np.array([x_bar_3, y_bar_3])\n",
    "    for i in range(len(data_after_reducing_dimension)):\n",
    "        group = classification(data_after_reducing_dimension[i], center_1, center_2, center_3)\n",
    "        if group == 1:\n",
    "            group_1_current.append(i)\n",
    "        elif group == 2:\n",
    "            group_2_current.append(i)\n",
    "        elif group == 3:\n",
    "            group_3_current.append(i)\n",
    "    if group_1_current in [group_1, group_2, group_3]:\n",
    "        if group_2_current in [group_1, group_2, group_3]:\n",
    "            if group_3_current in [group_1, group_2, group_3]:\n",
    "                break\n",
    "    else:\n",
    "        group_1, group_2, group_3 = group_1_current, group_2_current, group_3_current\n",
    "print(group_1, '\\n', group_2, '\\n', group_3)"
   ]
  },
  {
   "cell_type": "code",
   "execution_count": 23,
   "id": "d96149b5",
   "metadata": {},
   "outputs": [
    {
     "name": "stdout",
     "output_type": "stream",
     "text": [
      "[0, 1, 2, 3, 4, 5, 6, 7, 8, 9, 10, 11, 12, 13, 14, 15, 16, 17, 18, 20, 21, 22, 24, 25, 28, 29, 30, 31, 32, 33, 34, 35, 36, 38, 40, 41, 42, 43, 44, 45, 46, 47, 48, 49, 50, 51, 52, 53, 54, 55, 56, 57, 58, 64, 66, 67, 68, 71, 74, 75, 80, 95, 100, 122, 124, 132, 133, 134, 135, 137, 138, 139] \n",
      " [37, 70, 72, 73, 76, 77, 78, 79, 81, 82, 83, 84, 85, 86, 87, 88, 89, 90, 91, 92, 93, 94, 96, 97, 98, 99, 101, 102, 103, 104, 105, 106, 107, 108, 109, 110, 111, 112, 113, 114, 115, 116, 117, 118, 119, 120, 121, 123, 125, 126, 127, 128, 129, 130, 131, 136] \n",
      " [19, 23, 26, 27, 39, 59, 60, 61, 62, 63, 65, 69, 140, 141, 142, 143, 144, 145, 146, 147, 148, 149, 150, 151, 152, 153, 154, 155, 156, 157, 158, 159, 160, 161, 162, 163, 164, 165, 166, 167, 168, 169, 170, 171, 172, 173, 174, 175, 176, 177, 178, 179, 180, 181, 182, 183, 184, 185, 186, 187, 188, 189, 190, 191, 192, 193, 194, 195, 196, 197, 198, 199, 200, 201, 202, 203, 204, 205, 206, 207, 208, 209]\n"
     ]
    }
   ],
   "source": [
    "group_list = sorted([group_1, group_2, group_3])\n",
    "group_1 = group_list[0]\n",
    "group_2 = group_list[2]\n",
    "group_3 = group_list[1]\n",
    "print(group_1, '\\n', group_2, '\\n', group_3)"
   ]
  },
  {
   "cell_type": "code",
   "execution_count": 24,
   "id": "750af4aa",
   "metadata": {},
   "outputs": [
    {
     "name": "stdout",
     "output_type": "stream",
     "text": [
      "[0.6895528177599567, 0.6680790497272788, 0.629974321048712, 0.520927615414781, 0.2929805200064964, 0.6625408200461108, 0.6473180856393609, 0.5840098268450602, 0.07708766632437693, 0.19717082915752876, 0.6442436732737675, 0.6063185699323709, 0.2746804128923625, 0.37695649331780756, 0.3854837711531509, 0.5383949883625844, 0.03728673539787211, 0.5263063793199121, 0.719017323028803, 0.5601949791031375, 0.5801890041831003, 0.34766170726715107, 0.7013533653614746, 0.20480178828853057, 0.5792544824119871, 0.038544344683188916, 0.3255306632180715, 0.6948175276250717, 0.42316960249588936, 0.5617807589730099, 0.7134918034794107, 0.416606771899028, 0.44929908805262153, 0.7012960800882414, 0.33029659417560686, 0.35694877349855586, 0.06526904127383437, 0.6824938896256777, 0.7262581915692806, 0.5479963326611509, 0.595189900166315, 0.7221420338691776, 0.7111714708512072, 0.7199552985704611, 0.546796555420302, 0.5959263600888485, 0.540205978311113, 0.5867462674701031, 0.6789766761221828, 0.7120300543983281, 0.6588667844530594, 0.6781256846246124, 0.6489574880209871, 0.04954592372951218, 0.6572330047475377, 0.5751107627973616, 0.6698952851008745, 0.2864840488612791, 0.21474638333356555, 0.33495422049122864, 0.449164983255484, 0.14706457039282123, 0.4513093525533522, 0.5491128761989378, 0.5538338938416311, 0.6857733931244536, 0.5562869708620082, 0.6599518599397264, 0.7041004076485086, 0.6517468549785526, 0.650054485292374, 0.505699403298931]\n",
      "[0.17990763661305043, 0.36866774289951504, 0.05132072039973595, 0.7694165662355106, 0.20059985582553155, 0.6722444394882227, 0.6928485646108006, 0.21215741236146715, 0.6130409415989823, 0.6923906592113578, 0.6834521253637876, 0.7508172635260364, 0.6950954700856157, 0.7335334447115502, 0.7683962365037041, 0.6302540952538146, 0.6574557222861075, 0.6626485200586233, 0.7621283555858238, 0.7649901716203178, 0.5194017827592264, 0.586651464602078, 0.7706492082136956, 0.7437055311036809, 0.6637469643825016, 0.7455381474181604, 0.651450205961686, 0.7436969124105587, 0.77371608071673, 0.770784386313052, 0.7684900936312422, 0.7680765652431498, 0.40955008579744184, 0.7209916110355442, 0.7221372598163699, 0.7229834890824756, 0.7659443539303336, 0.7392841050031592, 0.5533997682990736, 0.6517574993781302, 0.7416166573903055, 0.7296880218964757, 0.7722461359304091, 0.7616074151988573, 0.710677065331118, 0.6741009836782929, 0.616791314529342, 0.7251020307496581, 0.7218331616546941, 0.6849498640596063, 0.641378594322628, 0.6615078068549711, 0.14075314033623654, 0.7062017515967487, 0.7721172697474551, 0.28208829859193796]\n",
      "[0.5624852605596368, 0.40960016246001413, 0.2917798484622503, 0.28777696163136185, 0.06566385906188212, 0.4118392213844114, 0.6944179742918705, 0.6710569517517638, 0.5857729125976779, 0.31015092277746525, 0.16630878292266346, 0.49063709452731363, 0.5384558569525332, 0.5274200559397704, 0.4740731428495393, 0.7271859570406659, 0.7519343605319375, 0.6984145171228547, 0.6436356644688029, 0.6584791441418889, 0.45652554504022247, 0.6874531086081209, 0.7521796165437301, 0.6878460693950534, 0.7211478852982468, 0.7180030670464617, 0.746905485877087, 0.7108038065357005, 0.7258134517119352, 0.739771421339344, 0.7509506216305364, 0.7433021114247982, 0.4852764872565026, 0.7292293282075766, 0.7435119863773487, 0.6432918295355466, 0.6759462462371211, 0.5208153621406824, 0.6956414733871895, 0.6630669275831862, 0.751585975543765, 0.7356055763756026, 0.6609083038174737, 0.6878674484993017, 0.748272060332559, 0.7290673866405002, 0.6984099777191692, 0.7076411035245546, 0.7307820889100404, 0.7009138594233209, 0.7222224143813344, 0.3751063397342545, 0.746944110012992, 0.6900086731092578, 0.7292092905001415, 0.7485865642732035, 0.6298874313488203, 0.7466279002318594, 0.7557532589475916, 0.7219341461304252, 0.6277112737969816, 0.6810554861629435, 0.7008622857237998, 0.7449939593549728, 0.7071665324128789, 0.7058431430373165, 0.7111781662224813, 0.5935696759376933, 0.6241341753010626, 0.29884770293389, 0.4949682753731204, 0.3464009217298614, 0.7079378241012645, 0.30499172323678386, 0.7446733376498854, 0.5766523456503374, 0.6559389997599058, 0.6674388131374712, 0.7446748300514632, 0.5298962503446986, 0.718920216349454, 0.7161784917524051]\n"
     ]
    }
   ],
   "source": [
    "'''Test the model'''\n",
    "'''Silhouette Coefficient'''\n",
    "s_list_1, s_list_2, s_list_3 = [], [], []\n",
    "def distance_among_group(point, group_name):\n",
    "    distance_to_group = 0\n",
    "    for data_point_index in group_name:\n",
    "        data_point = data_after_reducing_dimension[data_point_index]\n",
    "        distance_to_group += distance(point, data_point)\n",
    "    return distance_to_group/len(group_name)\n",
    "def calculate(group_name, slist):\n",
    "    for index in group_name:\n",
    "        point_info = data_after_reducing_dimension[index]\n",
    "        distance_list = [distance(point_info, center_1),\n",
    "                         distance(point_info, center_2),\n",
    "                         distance(point_info, center_3)]\n",
    "        next_nearest = distance_list.index(sorted(distance_list)[1])    # find the index of middle distance\n",
    "        group_list = [group_1, group_2, group_3]\n",
    "        a = distance_among_group(point_info, group_name)\n",
    "        b = distance_among_group(point_info, group_list[next_nearest])\n",
    "        slist.append((b-a) / max(a, b))\n",
    "calculate(group_1, s_list_1)\n",
    "calculate(group_2, s_list_2)\n",
    "calculate(group_3, s_list_3)\n",
    "print(s_list_1)\n",
    "print(s_list_2)\n",
    "print(s_list_3)"
   ]
  },
  {
   "cell_type": "code",
   "execution_count": 25,
   "id": "acd72acb",
   "metadata": {},
   "outputs": [
    {
     "name": "stdout",
     "output_type": "stream",
     "text": [
      "0.8483481430849852\n"
     ]
    }
   ],
   "source": [
    "'''Rand Index'''\n",
    "real_1, real_2, real_3 = [], [], []\n",
    "for index in range(len(class_list)):\n",
    "    if class_list[index] == 1:\n",
    "        real_1.append(index)\n",
    "    elif class_list[index] == 2:\n",
    "        real_2.append(index)\n",
    "    elif class_list[index] == 3:\n",
    "        real_3.append(index)\n",
    "        \n",
    "a, b, n = 0, 0, len(data_after_reducing_dimension)\n",
    "for i in range(len(data_after_reducing_dimension)):\n",
    "    for j in range(i+1, len(data_after_reducing_dimension)):\n",
    "        if (i in group_1 and j in group_1) or (i in group_2 and j in group_2) or (i in group_3 and j in group_3):\n",
    "            if (i in real_1 and j in real_1) or (i in real_2 and j in real_2) or (i in real_3 and j in real_3):\n",
    "                a += 1\n",
    "        elif (i in group_1 and j not in group_1) or (i in group_2 and j not in group_2) or (i in group_3 and j not in group_3):\n",
    "            if (i in real_1 and j not in real_1) or (i in real_2 and j not in real_2) or (i in real_3 and j not in real_3):\n",
    "                b += 1\n",
    "rand_index = (a+b)/(n*(n-1)/2)\n",
    "print(rand_index)"
   ]
  }
 ],
 "metadata": {
  "kernelspec": {
   "display_name": "Python 3 (ipykernel)",
   "language": "python",
   "name": "python3"
  },
  "language_info": {
   "codemirror_mode": {
    "name": "ipython",
    "version": 3
   },
   "file_extension": ".py",
   "mimetype": "text/x-python",
   "name": "python",
   "nbconvert_exporter": "python",
   "pygments_lexer": "ipython3",
   "version": "3.10.5"
  }
 },
 "nbformat": 4,
 "nbformat_minor": 5
}
